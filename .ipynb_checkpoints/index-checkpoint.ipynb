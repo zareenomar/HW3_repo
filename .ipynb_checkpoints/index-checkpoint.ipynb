{
  "nbformat": 4,
  "nbformat_minor": 0,
  "metadata": {
    "colab": {
      "provenance": []
    },
    "kernelspec": {
      "name": "python3",
      "display_name": "Python 3"
    },
    "language_info": {
      "name": "python"
    }
  },
  "cells": [
    {
      "cell_type": "code",
      "source": [
        "# load libraries and install packages\n",
        "\n",
        "!pip install numpy==1.23.5\n",
        "\n",
        "\n",
        "!pip install pandas openpyxl\n",
        "!pip install ahpy\n",
        "\n",
        "import pandas as pd\n",
        "import numpy as np\n",
        "import networkx as nx\n",
        "import ahpy\n"
      ],
      "metadata": {
        "colab": {
          "base_uri": "https://localhost:8080/"
        },
        "id": "Dt9X0g3tWhk2",
        "outputId": "c51f1292-5416-4b98-9795-3427cc0a9f64"
      },
      "execution_count": 8,
      "outputs": [
        {
          "output_type": "stream",
          "name": "stdout",
          "text": [
            "Requirement already satisfied: numpy==1.23.5 in /usr/local/lib/python3.11/dist-packages (1.23.5)\n",
            "Requirement already satisfied: pandas in /usr/local/lib/python3.11/dist-packages (2.2.2)\n",
            "Requirement already satisfied: openpyxl in /usr/local/lib/python3.11/dist-packages (3.1.5)\n",
            "Requirement already satisfied: numpy>=1.23.2 in /usr/local/lib/python3.11/dist-packages (from pandas) (1.23.5)\n",
            "Requirement already satisfied: python-dateutil>=2.8.2 in /usr/local/lib/python3.11/dist-packages (from pandas) (2.8.2)\n",
            "Requirement already satisfied: pytz>=2020.1 in /usr/local/lib/python3.11/dist-packages (from pandas) (2025.2)\n",
            "Requirement already satisfied: tzdata>=2022.7 in /usr/local/lib/python3.11/dist-packages (from pandas) (2025.2)\n",
            "Requirement already satisfied: et-xmlfile in /usr/local/lib/python3.11/dist-packages (from openpyxl) (2.0.0)\n",
            "Requirement already satisfied: six>=1.5 in /usr/local/lib/python3.11/dist-packages (from python-dateutil>=2.8.2->pandas) (1.17.0)\n",
            "Requirement already satisfied: ahpy in /usr/local/lib/python3.11/dist-packages (2.0)\n",
            "Requirement already satisfied: numpy in /usr/local/lib/python3.11/dist-packages (from ahpy) (1.23.5)\n",
            "Requirement already satisfied: scipy in /usr/local/lib/python3.11/dist-packages (from ahpy) (1.14.1)\n"
          ]
        }
      ]
    },
    {
      "cell_type": "code",
      "execution_count": 9,
      "metadata": {
        "colab": {
          "base_uri": "https://localhost:8080/"
        },
        "id": "N3PDS0i0UHPL",
        "outputId": "c6c0711b-199f-41d5-cb47-f0e996a3111d"
      },
      "outputs": [
        {
          "output_type": "stream",
          "name": "stdout",
          "text": [
            "Sheets in workbook: ['Learning', 'Friends', 'School Life', 'Vocational Training', 'College Prep', 'Music Classes']\n"
          ]
        }
      ],
      "source": [
        "# load Excel workbook\n",
        "url = \"https://github.com/zareenomar/HW3_repo/raw/refs/heads/main/AHP%20excel.xlsx\"\n",
        "\n",
        "xls = pd.ExcelFile(url)\n",
        "\n",
        "# Check available sheets\n",
        "print(\"Sheets in workbook:\", xls.sheet_names)\n",
        "\n"
      ]
    },
    {
      "cell_type": "code",
      "source": [],
      "metadata": {
        "id": "FgmA2CK1mBvO"
      },
      "execution_count": 9,
      "outputs": []
    },
    {
      "cell_type": "code",
      "source": [
        "# Read in all 6 sheets into variables\n",
        "pairwise_learning = pd.read_excel(url, sheet_name='Learning', index_col=0)\n",
        "pairwise_friends = pd.read_excel(url, sheet_name='Friends', index_col=0)\n",
        "pairwise_schoollife = pd.read_excel(url, sheet_name='School Life', index_col=0)\n",
        "pairwise_vocational = pd.read_excel(url, sheet_name='Vocational Training', index_col=0)\n",
        "pairwise_college = pd.read_excel(url, sheet_name='College Prep', index_col=0)\n",
        "pairwise_music = pd.read_excel(url, sheet_name='Music Classes', index_col=0)\n",
        "\n",
        "# Preview the first sheet\n",
        "print(\"Learning Sheet:\")\n",
        "print(pairwise_learning)\n"
      ],
      "metadata": {
        "colab": {
          "base_uri": "https://localhost:8080/"
        },
        "id": "hWvvGVslZiO6",
        "outputId": "a6f33136-b07c-4d7f-b187-448cf1825233"
      },
      "execution_count": 10,
      "outputs": [
        {
          "output_type": "stream",
          "name": "stdout",
          "text": [
            "Learning Sheet:\n",
            "   A         B    C\n",
            "A  1  0.333333  0.5\n",
            "B  3  1.000000  3.0\n",
            "C  2  0.333333  1.0\n"
          ]
        }
      ]
    },
    {
      "cell_type": "code",
      "source": [
        "# Convert each DataFrame to a MultiDiGraph and then to a comparison dictionary\n",
        "\n",
        "# Learning\n",
        "G_learning = nx.from_pandas_adjacency(pairwise_learning, create_using=nx.MultiDiGraph())\n",
        "learning_comparisons = {(e[0], e[1]): e[2]['weight'] for e in G_learning.edges(data=True) if np.isfinite(e[2]['weight'])}\n",
        "\n",
        "# Friends\n",
        "G_friends = nx.from_pandas_adjacency(pairwise_friends, create_using=nx.MultiDiGraph())\n",
        "friends_comparisons = {(e[0], e[1]): e[2]['weight'] for e in G_friends.edges(data=True) if np.isfinite(e[2]['weight'])}\n",
        "\n",
        "# School Life\n",
        "G_schoollife = nx.from_pandas_adjacency(pairwise_schoollife, create_using=nx.MultiDiGraph())\n",
        "schoollife_comparisons = {(e[0], e[1]): e[2]['weight'] for e in G_schoollife.edges(data=True) if np.isfinite(e[2]['weight'])}\n",
        "\n",
        "# Vocational Training\n",
        "G_vocational = nx.from_pandas_adjacency(pairwise_vocational, create_using=nx.MultiDiGraph())\n",
        "vocational_comparisons = {(e[0], e[1]): e[2]['weight'] for e in G_vocational.edges(data=True) if np.isfinite(e[2]['weight'])}\n",
        "\n",
        "# College Prep\n",
        "G_college = nx.from_pandas_adjacency(pairwise_college, create_using=nx.MultiDiGraph())\n",
        "college_comparisons = {(e[0], e[1]): e[2]['weight'] for e in G_college.edges(data=True) if np.isfinite(e[2]['weight'])}\n",
        "\n",
        "# Music Classes\n",
        "G_music = nx.from_pandas_adjacency(pairwise_music, create_using=nx.MultiDiGraph())\n",
        "music_comparisons = {(e[0], e[1]): e[2]['weight'] for e in G_music.edges(data=True) if np.isfinite(e[2]['weight'])}"
      ],
      "metadata": {
        "id": "JpUmtsHQaPRn"
      },
      "execution_count": 11,
      "outputs": []
    },
    {
      "cell_type": "code",
      "source": [
        "\n",
        "# Create ahpy Compare objects for each criterion\n",
        "learning = ahpy.Compare('Learning', learning_comparisons, precision=4, random_index='saaty')\n",
        "friends = ahpy.Compare('Friends', friends_comparisons, precision=4, random_index='saaty')\n",
        "schoollife = ahpy.Compare('School Life', schoollife_comparisons, precision=4, random_index='saaty')\n",
        "vocational = ahpy.Compare('Vocational Training', vocational_comparisons, precision=4, random_index='saaty')\n",
        "college = ahpy.Compare('College Prep', college_comparisons, precision=4, random_index='saaty')\n",
        "music = ahpy.Compare('Music Classes', music_comparisons, precision=4, random_index='saaty')\n",
        "\n",
        "# Print reports\n",
        "print(\"Learning\")\n",
        "print(learning.report(), \"\\n\")\n",
        "\n",
        "print(\"Friends\")\n",
        "print(friends.report(), \"\\n\")\n",
        "\n",
        "print(\"School Life\")\n",
        "print(schoollife.report(), \"\\n\")\n",
        "\n",
        "print(\"Vocational Training\")\n",
        "print(vocational.report(), \"\\n\")\n",
        "\n",
        "print(\"College Prep\")\n",
        "print(college.report(), \"\\n\")\n",
        "\n",
        "print(\"Music Classes\")\n",
        "print(music.report(), \"\\n\")\n"
      ],
      "metadata": {
        "colab": {
          "base_uri": "https://localhost:8080/"
        },
        "id": "i_capJRna5mH",
        "outputId": "65cf8b95-c1b2-4d27-a24f-c0e044340641"
      },
      "execution_count": 12,
      "outputs": [
        {
          "output_type": "stream",
          "name": "stdout",
          "text": [
            "Learning\n",
            "{'name': 'Learning', 'global_weight': 1.0, 'local_weight': 1.0, 'target_weights': {'B': 0.5936, 'C': 0.2493, 'A': 0.1571}, 'elements': {'global_weights': {'B': 0.5936, 'C': 0.2493, 'A': 0.1571}, 'local_weights': {'B': 0.5936, 'C': 0.2493, 'A': 0.1571}, 'consistency_ratio': 0.0516}} \n",
            "\n",
            "Friends\n",
            "{'name': 'Friends', 'global_weight': 1.0, 'local_weight': 1.0, 'target_weights': {'A': 0.3333, 'B': 0.3333, 'C': 0.3333}, 'elements': {'global_weights': {'A': 0.3333, 'B': 0.3333, 'C': 0.3333}, 'local_weights': {'A': 0.3333, 'B': 0.3333, 'C': 0.3333}, 'consistency_ratio': 0.0}} \n",
            "\n",
            "School Life\n",
            "{'name': 'School Life', 'global_weight': 1.0, 'local_weight': 1.0, 'target_weights': {'A': 0.4545, 'C': 0.4545, 'B': 0.0909}, 'elements': {'global_weights': {'A': 0.4545, 'C': 0.4545, 'B': 0.0909}, 'local_weights': {'A': 0.4545, 'C': 0.4545, 'B': 0.0909}, 'consistency_ratio': 0.0}} \n",
            "\n",
            "Vocational Training\n",
            "{'name': 'Vocational Training', 'global_weight': 1.0, 'local_weight': 1.0, 'target_weights': {'A': 0.772, 'C': 0.1734, 'B': 0.0545}, 'elements': {'global_weights': {'A': 0.772, 'C': 0.1734, 'B': 0.0545}, 'local_weights': {'A': 0.772, 'C': 0.1734, 'B': 0.0545}, 'consistency_ratio': 0.2005}} \n",
            "\n",
            "College Prep\n",
            "{'name': 'College Prep', 'global_weight': 1.0, 'local_weight': 1.0, 'target_weights': {'B': 0.5, 'A': 0.25, 'C': 0.25}, 'elements': {'global_weights': {'B': 0.5, 'A': 0.25, 'C': 0.25}, 'local_weights': {'B': 0.5, 'A': 0.25, 'C': 0.25}, 'consistency_ratio': 0.0}} \n",
            "\n",
            "Music Classes\n",
            "{'name': 'Music Classes', 'global_weight': 1.0, 'local_weight': 1.0, 'target_weights': {'A': 0.691, 'C': 0.2176, 'B': 0.0914}, 'elements': {'global_weights': {'A': 0.691, 'C': 0.2176, 'B': 0.0914}, 'local_weights': {'A': 0.691, 'C': 0.2176, 'B': 0.0914}, 'consistency_ratio': 0.0516}} \n",
            "\n"
          ]
        }
      ]
    },
    {
      "cell_type": "code",
      "source": [
        "# Extract the target weights\n",
        "learning_priorities = learning.target_weights\n",
        "friends_priorities = friends.target_weights\n",
        "schoollife_priorities = schoollife.target_weights\n",
        "vocational_priorities = vocational.target_weights\n",
        "college_priorities = college.target_weights\n",
        "music_priorities = music.target_weights\n",
        "\n",
        "final_scores = {}\n",
        "alternatives = list(learning_priorities.keys())\n",
        "\n",
        "# Calculate the average score for each school\n",
        "for alt in alternatives:\n",
        "    final_scores[alt] = (\n",
        "        learning_priorities[alt] +\n",
        "        friends_priorities[alt] +\n",
        "        schoollife_priorities[alt] +\n",
        "        vocational_priorities[alt] +\n",
        "        college_priorities[alt] +\n",
        "        music_priorities[alt]\n",
        "    ) / 6  # Because 6 criteria\n",
        "\n",
        "# Print final scores sorted from best to worst\n",
        "print(\"\\nFinal Overall Scores (Equal Weighting Across Criteria):\")\n",
        "for alt, score in sorted(final_scores.items(), key=lambda x: x[1], reverse=True):\n",
        "    print(f\"School {alt}: {score:.4f}\")\n"
      ],
      "metadata": {
        "colab": {
          "base_uri": "https://localhost:8080/"
        },
        "id": "1wTrM1aCp9WZ",
        "outputId": "e3b93f7b-9910-47a3-e115-bbe46914691b"
      },
      "execution_count": 13,
      "outputs": [
        {
          "output_type": "stream",
          "name": "stdout",
          "text": [
            "\n",
            "Final Overall Scores (Equal Weighting Across Criteria):\n",
            "School A: 0.4430\n",
            "School C: 0.2797\n",
            "School B: 0.2773\n"
          ]
        }
      ]
    }
  ]
}